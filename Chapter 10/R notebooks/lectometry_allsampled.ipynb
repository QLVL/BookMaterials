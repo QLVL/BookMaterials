{
 "cells": [
  {
   "cell_type": "code",
   "execution_count": 1,
   "metadata": {
    "scrolled": true
   },
   "outputs": [
    {
     "name": "stderr",
     "output_type": "stream",
     "text": [
      "── \u001b[1mAttaching packages\u001b[22m ─────────────────────────────────────── tidyverse 1.3.2 ──\n",
      "\u001b[32m✔\u001b[39m \u001b[34mggplot2\u001b[39m 3.4.0      \u001b[32m✔\u001b[39m \u001b[34mpurrr  \u001b[39m 1.0.1 \n",
      "\u001b[32m✔\u001b[39m \u001b[34mtibble \u001b[39m 3.1.8      \u001b[32m✔\u001b[39m \u001b[34mdplyr  \u001b[39m 1.0.10\n",
      "\u001b[32m✔\u001b[39m \u001b[34mtidyr  \u001b[39m 1.2.1      \u001b[32m✔\u001b[39m \u001b[34mstringr\u001b[39m 1.5.0 \n",
      "\u001b[32m✔\u001b[39m \u001b[34mreadr  \u001b[39m 2.1.3      \u001b[32m✔\u001b[39m \u001b[34mforcats\u001b[39m 0.5.2 \n",
      "── \u001b[1mConflicts\u001b[22m ────────────────────────────────────────── tidyverse_conflicts() ──\n",
      "\u001b[31m✖\u001b[39m \u001b[34mdplyr\u001b[39m::\u001b[32mfilter()\u001b[39m masks \u001b[34mstats\u001b[39m::filter()\n",
      "\u001b[31m✖\u001b[39m \u001b[34mdplyr\u001b[39m::\u001b[32mlag()\u001b[39m    masks \u001b[34mstats\u001b[39m::lag()\n",
      "\n",
      "Attaching package: ‘data.table’\n",
      "\n",
      "\n",
      "The following objects are masked from ‘package:dplyr’:\n",
      "\n",
      "    between, first, last\n",
      "\n",
      "\n",
      "The following object is masked from ‘package:purrr’:\n",
      "\n",
      "    transpose\n",
      "\n",
      "\n",
      "hash-2.2.6.2 provided by Decision Patterns\n",
      "\n",
      "\n",
      "\n",
      "Attaching package: ‘hash’\n",
      "\n",
      "\n",
      "The following object is masked from ‘package:data.table’:\n",
      "\n",
      "    copy\n",
      "\n",
      "\n"
     ]
    }
   ],
   "source": [
    "library(tidyverse)\n",
    "library(data.table)\n",
    "library(hash)\n",
    "`%ni%` = Negate(`%in%`)"
   ]
  },
  {
   "cell_type": "code",
   "execution_count": 2,
   "metadata": {},
   "outputs": [
    {
     "data": {
      "text/html": [
       "5"
      ],
      "text/latex": [
       "5"
      ],
      "text/markdown": [
       "5"
      ],
      "text/plain": [
       "[1] 5"
      ]
     },
     "metadata": {},
     "output_type": "display_data"
    }
   ],
   "source": [
    "# path to concept directories\n",
    "path = \".../concepts/\"\n",
    "out.path = \".../uniformity_calculations.csv\"\n",
    "\n",
    "concepts <- list.dirs(path=path, full = F, recursive = F)\n",
    "concepts <- concepts[! concepts %in% c(\"tmp\", \".ipynb_checkpoints\",\"TEMPLATES\")]\n",
    "length(concepts)"
   ]
  },
  {
   "cell_type": "code",
   "execution_count": 3,
   "metadata": {},
   "outputs": [],
   "source": [
    "variants <- list('STUDENT' = c('alumna','alumno','estudiante'),'FOOLISH ACT' = c('boludez','pavada'), 'HUSBAND' = c('esposo','marido'), 'NICKNAME' = c('apodo','sobrenombre','mote','remoquete'),'WAITER' = c('camarera', 'camarero','mesera','mesero'))"
   ]
  },
  {
   "cell_type": "code",
   "execution_count": 4,
   "metadata": {},
   "outputs": [],
   "source": [
    "# merge variants for gender\n",
    "var2merge <- hash()\n",
    "var2merge[['WAITER']] <- c('camarer*', 'meser*')\n",
    "var2merge[['STUDENT']] <- 'alumn*'"
   ]
  },
  {
   "cell_type": "markdown",
   "metadata": {},
   "source": [
    "# Lectometric Calculations"
   ]
  },
  {
   "cell_type": "code",
   "execution_count": 9,
   "metadata": {
    "scrolled": true
   },
   "outputs": [
    {
     "name": "stdout",
     "output_type": "stream",
     "text": [
      "----------------------\n",
      " FOOLISH ACT \n",
      " Model: FOOLISH ACT.nobound5-5all.PPMIno.LENGTH5000.SOCPOSall \n",
      " Total number of tokens: 617 \n",
      " ----------------------\n",
      "\n",
      "----------------------\n",
      " HUSBAND \n",
      " Model: HUSBAND.nobound15-15openclass.PPMIweight.LENGTHFOC.SOCPOSall \n",
      " Total number of tokens: 14319 \n",
      " ----------------------\n",
      "\n",
      "----------------------\n",
      " NICKNAME \n",
      " Model: NICKNAME.nobound10-10openclass.PPMIweight.LENGTHFOC.SOCPOSall \n",
      " Total number of tokens: 1417 \n",
      " ----------------------\n",
      "\n",
      "----------------------\n",
      " STUDENT \n",
      " Model: STUDENT.nobound10-10all.PPMIweight.LENGTH5000.SOCPOSall \n",
      " Total number of tokens: 20033 \n",
      " ----------------------\n",
      "\n",
      "----------------------\n",
      " WAITER \n",
      " Model: WAITER.nobound15-15all.PPMIselection.LENGTHFOC.SOCPOSall \n",
      " Total number of tokens: 1042 \n",
      " ----------------------\n",
      "\n"
     ]
    },
    {
     "data": {
      "text/html": [
       "<table class=\"dataframe\">\n",
       "<caption>A data.frame: 5 × 39</caption>\n",
       "<thead>\n",
       "\t<tr><th scope=col>concept</th><th scope=col>total.variants</th><th scope=col>total.tokens</th><th scope=col>arg-col (U.values)</th><th scope=col>arg-mex (U.values)</th><th scope=col>arg-per (U.values)</th><th scope=col>arg-spa (U.values)</th><th scope=col>arg-usa (U.values)</th><th scope=col>col-mex (U.values)</th><th scope=col>col-per (U.values)</th><th scope=col>⋯</th><th scope=col>col-mex (sizes)</th><th scope=col>col-per (sizes)</th><th scope=col>col-spa (sizes)</th><th scope=col>col-usa (sizes)</th><th scope=col>mex-per (sizes)</th><th scope=col>mex-spa (sizes)</th><th scope=col>mex-usa (sizes)</th><th scope=col>per-spa (sizes)</th><th scope=col>per-usa (sizes)</th><th scope=col>spa-usa (sizes)</th></tr>\n",
       "\t<tr><th scope=col>&lt;chr&gt;</th><th scope=col>&lt;int&gt;</th><th scope=col>&lt;int&gt;</th><th scope=col>&lt;named list&gt;</th><th scope=col>&lt;named list&gt;</th><th scope=col>&lt;named list&gt;</th><th scope=col>&lt;named list&gt;</th><th scope=col>&lt;named list&gt;</th><th scope=col>&lt;named list&gt;</th><th scope=col>&lt;named list&gt;</th><th scope=col>⋯</th><th scope=col>&lt;named list&gt;</th><th scope=col>&lt;named list&gt;</th><th scope=col>&lt;named list&gt;</th><th scope=col>&lt;named list&gt;</th><th scope=col>&lt;named list&gt;</th><th scope=col>&lt;named list&gt;</th><th scope=col>&lt;named list&gt;</th><th scope=col>&lt;named list&gt;</th><th scope=col>&lt;named list&gt;</th><th scope=col>&lt;named list&gt;</th></tr>\n",
       "</thead>\n",
       "<tbody>\n",
       "\t<tr><td>FOOLISH ACT</td><td>2</td><td>  617</td><td>1</td><td>1</td><td>0.7622561</td><td>1</td><td>1</td><td>1</td><td>1</td><td>⋯</td><td>33</td><td>42</td><td>32</td><td>62</td><td>53</td><td>43</td><td>73</td><td>52</td><td>82</td><td>72</td></tr>\n",
       "\t<tr><td>HUSBAND    </td><td>2</td><td>14319</td><td>0.7178621</td><td>0.7562315</td><td>0.6717009</td><td>0.927178</td><td>0.8274454</td><td>0.9616306</td><td>0.9538388</td><td>⋯</td><td>4944</td><td>4251</td><td>4211</td><td>4599</td><td>5339</td><td>5299</td><td>5687</td><td>4606</td><td>4994</td><td>4954</td></tr>\n",
       "\t<tr><td>NICKNAME   </td><td>4</td><td> 1417</td><td>0.9615848</td><td>1</td><td>1</td><td>1</td><td>1</td><td>0.9272105</td><td>0.8818911</td><td>⋯</td><td>467</td><td>519</td><td>415</td><td>409</td><td>562</td><td>458</td><td>452</td><td>510</td><td>504</td><td>400</td></tr>\n",
       "\t<tr><td>STUDENT    </td><td>2</td><td>20033</td><td>0.6867801</td><td>1</td><td>0.9648038</td><td>0.9199712</td><td>0.8546999</td><td>0.6785704</td><td>0.7219763</td><td>⋯</td><td>7678</td><td>8536</td><td>7119</td><td>6950</td><td>7360</td><td>5943</td><td>5774</td><td>6801</td><td>6632</td><td>5215</td></tr>\n",
       "\t<tr><td>WAITER     </td><td>2</td><td> 1042</td><td>0.4528371</td><td>0.5382675</td><td>0.5774771</td><td>0.87253</td><td>0.8561347</td><td>1</td><td>1</td><td>⋯</td><td>394</td><td>268</td><td>456</td><td>404</td><td>284</td><td>472</td><td>420</td><td>346</td><td>294</td><td>482</td></tr>\n",
       "</tbody>\n",
       "</table>\n"
      ],
      "text/latex": [
       "A data.frame: 5 × 39\n",
       "\\begin{tabular}{lllllllllllllllllllll}\n",
       " concept & total.variants & total.tokens & arg-col (U.values) & arg-mex (U.values) & arg-per (U.values) & arg-spa (U.values) & arg-usa (U.values) & col-mex (U.values) & col-per (U.values) & ⋯ & col-mex (sizes) & col-per (sizes) & col-spa (sizes) & col-usa (sizes) & mex-per (sizes) & mex-spa (sizes) & mex-usa (sizes) & per-spa (sizes) & per-usa (sizes) & spa-usa (sizes)\\\\\n",
       " <chr> & <int> & <int> & <named list> & <named list> & <named list> & <named list> & <named list> & <named list> & <named list> & ⋯ & <named list> & <named list> & <named list> & <named list> & <named list> & <named list> & <named list> & <named list> & <named list> & <named list>\\\\\n",
       "\\hline\n",
       "\t FOOLISH ACT & 2 &   617 & 1 & 1 & 0.7622561 & 1 & 1 & 1 & 1 & ⋯ & 33 & 42 & 32 & 62 & 53 & 43 & 73 & 52 & 82 & 72\\\\\n",
       "\t HUSBAND     & 2 & 14319 & 0.7178621 & 0.7562315 & 0.6717009 & 0.927178 & 0.8274454 & 0.9616306 & 0.9538388 & ⋯ & 4944 & 4251 & 4211 & 4599 & 5339 & 5299 & 5687 & 4606 & 4994 & 4954\\\\\n",
       "\t NICKNAME    & 4 &  1417 & 0.9615848 & 1 & 1 & 1 & 1 & 0.9272105 & 0.8818911 & ⋯ & 467 & 519 & 415 & 409 & 562 & 458 & 452 & 510 & 504 & 400\\\\\n",
       "\t STUDENT     & 2 & 20033 & 0.6867801 & 1 & 0.9648038 & 0.9199712 & 0.8546999 & 0.6785704 & 0.7219763 & ⋯ & 7678 & 8536 & 7119 & 6950 & 7360 & 5943 & 5774 & 6801 & 6632 & 5215\\\\\n",
       "\t WAITER      & 2 &  1042 & 0.4528371 & 0.5382675 & 0.5774771 & 0.87253 & 0.8561347 & 1 & 1 & ⋯ & 394 & 268 & 456 & 404 & 284 & 472 & 420 & 346 & 294 & 482\\\\\n",
       "\\end{tabular}\n"
      ],
      "text/markdown": [
       "\n",
       "A data.frame: 5 × 39\n",
       "\n",
       "| concept &lt;chr&gt; | total.variants &lt;int&gt; | total.tokens &lt;int&gt; | arg-col (U.values) &lt;named list&gt; | arg-mex (U.values) &lt;named list&gt; | arg-per (U.values) &lt;named list&gt; | arg-spa (U.values) &lt;named list&gt; | arg-usa (U.values) &lt;named list&gt; | col-mex (U.values) &lt;named list&gt; | col-per (U.values) &lt;named list&gt; | ⋯ ⋯ | col-mex (sizes) &lt;named list&gt; | col-per (sizes) &lt;named list&gt; | col-spa (sizes) &lt;named list&gt; | col-usa (sizes) &lt;named list&gt; | mex-per (sizes) &lt;named list&gt; | mex-spa (sizes) &lt;named list&gt; | mex-usa (sizes) &lt;named list&gt; | per-spa (sizes) &lt;named list&gt; | per-usa (sizes) &lt;named list&gt; | spa-usa (sizes) &lt;named list&gt; |\n",
       "|---|---|---|---|---|---|---|---|---|---|---|---|---|---|---|---|---|---|---|---|---|\n",
       "| FOOLISH ACT | 2 |   617 | 1 | 1 | 0.7622561 | 1 | 1 | 1 | 1 | ⋯ | 33 | 42 | 32 | 62 | 53 | 43 | 73 | 52 | 82 | 72 |\n",
       "| HUSBAND     | 2 | 14319 | 0.7178621 | 0.7562315 | 0.6717009 | 0.927178 | 0.8274454 | 0.9616306 | 0.9538388 | ⋯ | 4944 | 4251 | 4211 | 4599 | 5339 | 5299 | 5687 | 4606 | 4994 | 4954 |\n",
       "| NICKNAME    | 4 |  1417 | 0.9615848 | 1 | 1 | 1 | 1 | 0.9272105 | 0.8818911 | ⋯ | 467 | 519 | 415 | 409 | 562 | 458 | 452 | 510 | 504 | 400 |\n",
       "| STUDENT     | 2 | 20033 | 0.6867801 | 1 | 0.9648038 | 0.9199712 | 0.8546999 | 0.6785704 | 0.7219763 | ⋯ | 7678 | 8536 | 7119 | 6950 | 7360 | 5943 | 5774 | 6801 | 6632 | 5215 |\n",
       "| WAITER      | 2 |  1042 | 0.4528371 | 0.5382675 | 0.5774771 | 0.87253 | 0.8561347 | 1 | 1 | ⋯ | 394 | 268 | 456 | 404 | 284 | 472 | 420 | 346 | 294 | 482 |\n",
       "\n"
      ],
      "text/plain": [
       "  concept     total.variants total.tokens arg-col (U.values) arg-mex (U.values)\n",
       "1 FOOLISH ACT 2                617        1                  1                 \n",
       "2 HUSBAND     2              14319        0.7178621          0.7562315         \n",
       "3 NICKNAME    4               1417        0.9615848          1                 \n",
       "4 STUDENT     2              20033        0.6867801          1                 \n",
       "5 WAITER      2               1042        0.4528371          0.5382675         \n",
       "  arg-per (U.values) arg-spa (U.values) arg-usa (U.values) col-mex (U.values)\n",
       "1 0.7622561          1                  1                  1                 \n",
       "2 0.6717009          0.927178           0.8274454          0.9616306         \n",
       "3 1                  1                  1                  0.9272105         \n",
       "4 0.9648038          0.9199712          0.8546999          0.6785704         \n",
       "5 0.5774771          0.87253            0.8561347          1                 \n",
       "  col-per (U.values) ⋯ col-mex (sizes) col-per (sizes) col-spa (sizes)\n",
       "1 1                  ⋯ 33              42              32             \n",
       "2 0.9538388          ⋯ 4944            4251            4211           \n",
       "3 0.8818911          ⋯ 467             519             415            \n",
       "4 0.7219763          ⋯ 7678            8536            7119           \n",
       "5 1                  ⋯ 394             268             456            \n",
       "  col-usa (sizes) mex-per (sizes) mex-spa (sizes) mex-usa (sizes)\n",
       "1 62              53              43              73             \n",
       "2 4599            5339            5299            5687           \n",
       "3 409             562             458             452            \n",
       "4 6950            7360            5943            5774           \n",
       "5 404             284             472             420            \n",
       "  per-spa (sizes) per-usa (sizes) spa-usa (sizes)\n",
       "1 52              82              72             \n",
       "2 4606            4994            4954           \n",
       "3 510             504             400            \n",
       "4 6801            6632            5215           \n",
       "5 346             294             482            "
      ]
     },
     "metadata": {},
     "output_type": "display_data"
    }
   ],
   "source": [
    "all.calcs <- data.frame()\n",
    "\n",
    "for (concept in concepts){\n",
    "    \n",
    "    sizes <- list()\n",
    "    u.values <- list() # uniformity values\n",
    "    iu.values <- list() # internal uniformity\n",
    "    \n",
    "    \n",
    "    # get all tokens from largest model ========================================================\n",
    "\n",
    "    csvFiles <- list.files(path=paste0(path,concept), pattern=\".*csv$\", full.names = TRUE)\n",
    "    info <- file.info(csvFiles)\n",
    "    csvFiles <- csvFiles[order(-info$size)]\n",
    "    largest <- head(csvFiles, 1)\n",
    "\n",
    "    d <- read.csv(largest, quote=\"\",header=F)\n",
    "    colnames(d) <- c(\"token\",\"cluster\")\n",
    "\n",
    "    model.name <- strsplit(largest, \"/\")[[1]][9]\n",
    "    model <- str_replace_all(model.name, \".tcmx.soc.pac__cluster_assignment.csv\",\"\")\n",
    "\n",
    "    token <- data.frame(do.call(\"rbind\", strsplit(as.character(d$token),\"/\", fixed=TRUE)))\n",
    "    d.new <- cbind.data.frame(d, token)\n",
    "    colnames(d.new)[3:6] <- c(\"type\", \"pos\", \"file\", \"id\")\n",
    "\n",
    "    d.file <- data.frame(do.call(\"rbind\", strsplit(as.character(d.new$file), \"_|[0-9]\"))[,1:2]) \n",
    "    colnames(d.file) <- c(\"country\", \"register\")    \n",
    "    d.final <- cbind.data.frame(d.new, d.file) \n",
    "    \n",
    "    cat(\"----------------------\\n\",\n",
    "        concept, \"\\n\", \n",
    "        \"Model:\", model, \"\\n\",\n",
    "        \"Total number of tokens:\", nrow(d.final), \"\\n\",\n",
    "       \"----------------------\\n\\n\")\n",
    "\n",
    "    # get uniformity values ================================================================\n",
    "\n",
    "    countries <- c(\"arg\",\"col\", \"mex\", \"per\", \"spa\", \"usa\")\n",
    "    lectal.comp <- c()\n",
    "\n",
    "    for (lect in countries){\n",
    "        for (lect2 in countries){\n",
    "            if (lect != lect2){\n",
    "\n",
    "                if (paste0(lect2,\"-\",lect) %in% lectal.comp){\n",
    "                    next\n",
    "                }\n",
    "\n",
    "                country.comparison <- c(lect,lect2)\n",
    "                d.sub <- droplevels(subset(d.final, country %in% country.comparison))\n",
    "                \n",
    "                # merge different forms of same variant\n",
    "                if (concept %in% keys(var2merge)){\n",
    "                    d.sub2 <- mutate(d.sub, type2 = factor(str_replace(type, \"(.+)[aoe]$\", \"\\\\1\")))  \n",
    "                    (utab <- table(d.sub2$type2, d.sub2$country))\n",
    "                }else{\n",
    "                    (utab <- table(d.sub$type, d.sub$country))\n",
    "                }\n",
    "\n",
    "                # check if monolexical:\n",
    "                if (nrow(utab) == 1){\n",
    "                    monolex = TRUE\n",
    "                }else{\n",
    "                    monolex = FALSE\n",
    "                }\n",
    "\n",
    "                # calculate uniformity values:\n",
    "                if (ncol(utab) == 0){\n",
    "                    u <- NA\n",
    "                    lect.iu <- NA\n",
    "                    lect2.iu <- NA\n",
    "                }else if(ncol(utab) == 1){\n",
    "                    u <- NA\n",
    "                    if (colnames(utab) == lect){\n",
    "                        lect.iu <- round(sum(prop.table(utab[,1])^2), 10)\n",
    "                        lect2.iu <- NA\n",
    "                    }else{\n",
    "                        lect2.iu <- round(sum(prop.table(utab[,1])^2), 10)\n",
    "                        lect.iu <- NA\n",
    "                    }\n",
    "                }else if (monolex == FALSE){\n",
    "                    # run regression test over contingency table:\n",
    "                    if (fisher.test(utab, simulate.p.value = TRUE)$p > 0.05){ \n",
    "                        # p-value greater than 0.05, U-value = 1\n",
    "                        u <- 1\n",
    "                        lect.iu <- round(sum(prop.table(utab[,1])^2), 10)\n",
    "                        lect2.iu <- round(sum(prop.table(utab[,2])^2), 10)\n",
    "                    }else{\n",
    "                        prop.utab <- prop.table(utab, 2)\n",
    "                        u <- round(sum(apply(prop.utab, 1, min), na.rm=T), 10)\n",
    "                        lect.iu <- round(sum(prop.table(utab[,1])^2), 10)\n",
    "                        lect2.iu <- round(sum(prop.table(utab[,2])^2), 10)  \n",
    "                    } \n",
    "                }else{\n",
    "                    prop.utab <- prop.table(utab, 2)\n",
    "                    u <- round(sum(apply(prop.utab, 1, min), na.rm=T), 10)\n",
    "                    lect.iu <- round(sum(prop.table(utab[,1])^2), 10)\n",
    "                    lect2.iu <- round(sum(prop.table(utab[,2])^2), 10)  \n",
    "                }\n",
    "                \n",
    "                # list of calculations\n",
    "                sizes[paste0(lect,\"-\",lect2, \" (sizes)\")] <- sum(utab)\n",
    "                u.values[paste0(lect,\"-\",lect2, \" (U.values)\")] <- u  \n",
    "                iu.values[paste0(lect,\" (i-U.values)\")] <- lect.iu\n",
    "                iu.values[paste0(lect2,\" (i-U.values)\")] <- lect2.iu \n",
    "                lectal.comp <- c(lectal.comp,paste0(lect,\"-\",lect2))\n",
    "\n",
    "            }\n",
    "        }\n",
    "    }\n",
    "    \n",
    "    # merge everything (total tokens, U-values, internal U-values and lectal comparison sizes) into one dataframe:\n",
    "\n",
    "    total.tokens <- nrow(d.final)\n",
    "    df1 <- data.frame(colnames=names(u.values))\n",
    "    df1 <- rbind(u.values)\n",
    "    df2 <- data.frame(colnames=names(iu.values))\n",
    "    df2 <- rbind(iu.values)\n",
    "    df3 <- data.frame(colnames=names(sizes))\n",
    "    df3 <- rbind(sizes)\n",
    "\n",
    "    df.all <- cbind(df1,df2,df3)\n",
    "    rownames(df.all) <- NULL\n",
    "   \n",
    "    # adjusting for merged variants:\n",
    "    if (concept %in% keys(var2merge)){\n",
    "        total.variants <- (length(variants[[concept]])-length(var2merge[[concept]]))\n",
    "    }else{\n",
    "        total.variants <- length(variants[[concept]])\n",
    "    }\n",
    "    \n",
    "    # bind all elements to get final dataframe:\n",
    "    all.calcs <- rbind(all.calcs, cbind.data.frame(concept,total.variants, total.tokens,df.all))\n",
    "}\n",
    "\n",
    "all.calcs"
   ]
  },
  {
   "cell_type": "code",
   "execution_count": null,
   "metadata": {},
   "outputs": [],
   "source": [
    "# write.csv(as.matrix(all.calcs),out.path, row.names = FALSE)"
   ]
  },
  {
   "cell_type": "markdown",
   "metadata": {},
   "source": [
    " "
   ]
  },
  {
   "cell_type": "markdown",
   "metadata": {},
   "source": [
    " "
   ]
  }
 ],
 "metadata": {
  "kernelspec": {
   "display_name": "R",
   "language": "R",
   "name": "ir"
  },
  "language_info": {
   "codemirror_mode": "r",
   "file_extension": ".r",
   "mimetype": "text/x-r-source",
   "name": "R",
   "pygments_lexer": "r",
   "version": "4.2.2"
  }
 },
 "nbformat": 4,
 "nbformat_minor": 2
}
