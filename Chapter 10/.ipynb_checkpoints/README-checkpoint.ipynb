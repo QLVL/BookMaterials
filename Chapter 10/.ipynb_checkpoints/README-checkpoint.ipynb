{
 "cells": [
  {
   "cell_type": "markdown",
   "id": "ac72524a",
   "metadata": {},
   "source": [
    "# Read me Chapter 10"
   ]
  },
  {
   "cell_type": "markdown",
   "id": "ade10619",
   "metadata": {},
   "source": [
    "The files included here show how the uniformity values were calculated for the three token sets from chapter 10, namely 1) all sampled tokens, 2) in-concept tokens, and 3) modeled tokens."
   ]
  },
  {
   "cell_type": "markdown",
   "id": "546a67a8",
   "metadata": {},
   "source": [
    "## Contents"
   ]
  },
  {
   "cell_type": "markdown",
   "id": "64b403f7",
   "metadata": {},
   "source": [
    "The data folder includes a toy CSV file of disambiguated tokens titled \"AnnotatedTokens\" along with a concepts folder containing toy model data for five concepts. The AnnotatedTokens file contains two columns, one for the token and another containing the disambiguation information (\"1\" denoting the token as in-concept, and \"0\" out-ou-concept). The files within concepts folder contain toy results of the clustering (via HDBSCAN) for each model (although 36 models totals were generated for the study, only two are included here). These serve as input for the all sampled and modeled scripts and contain two columns, the token and its cluster."
   ]
  },
  {
   "cell_type": "code",
   "execution_count": null,
   "id": "c7ddcdf2",
   "metadata": {},
   "outputs": [],
   "source": []
  }
 ],
 "metadata": {
  "kernelspec": {
   "display_name": "R",
   "language": "R",
   "name": "ir"
  },
  "language_info": {
   "codemirror_mode": "r",
   "file_extension": ".r",
   "mimetype": "text/x-r-source",
   "name": "R",
   "pygments_lexer": "r",
   "version": "4.2.2"
  }
 },
 "nbformat": 4,
 "nbformat_minor": 5
}
